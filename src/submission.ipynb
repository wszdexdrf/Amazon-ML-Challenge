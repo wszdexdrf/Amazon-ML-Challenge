{
 "cells": [
  {
   "cell_type": "code",
   "execution_count": 15,
   "metadata": {},
   "outputs": [],
   "source": [
    "from transformers import pipeline\n",
    "import pandas as pd\n",
    "import re\n",
    "from tqdm import tqdm\n",
    "from time import time"
   ]
  },
  {
   "cell_type": "code",
   "execution_count": 16,
   "metadata": {},
   "outputs": [
    {
     "name": "stderr",
     "output_type": "stream",
     "text": [
      "d:\\Code\\Amazon ML Challenge\\.venv\\Lib\\site-packages\\transformers\\tokenization_utils_base.py:1601: FutureWarning: `clean_up_tokenization_spaces` was not set. It will be set to `True` by default. This behavior will be depracted in transformers v4.45, and will be then set to `False` by default. For more details check this issue: https://github.com/huggingface/transformers/issues/31884\n",
      "  warnings.warn(\n"
     ]
    }
   ],
   "source": [
    "qa_pipeline = pipeline('question-answering', model=\"deepset/roberta-base-squad2-distilled\", device='cuda')\n",
    "context = \"\"\n",
    "question = \"What is the %% mentioned in the description?\""
   ]
  },
  {
   "cell_type": "code",
   "execution_count": 66,
   "metadata": {},
   "outputs": [],
   "source": [
    "def process_text(answer, entity):\n",
    "    # Clean up the output of the LLM\n",
    "    entity_unit_map = {\n",
    "        \"width\": {\"centimetre\", \"foot\", \"millimetre\", \"metre\", \"inch\", \"yard\"},\n",
    "        \"depth\": {\"centimetre\", \"foot\", \"millimetre\", \"metre\", \"inch\", \"yard\"},\n",
    "        \"height\": {\"centimetre\", \"foot\", \"millimetre\", \"metre\", \"inch\", \"yard\"},\n",
    "        \"item_weight\": {\n",
    "            \"milligram\",\n",
    "            \"kilogram\",\n",
    "            \"microgram\",\n",
    "            \"gram\",\n",
    "            \"ounce\",\n",
    "            \"ton\",\n",
    "            \"pound\",\n",
    "        },\n",
    "        \"voltage\": {\"millivolt\", \"kilovolt\", \"volt\"},\n",
    "        \"wattage\": {\"kilowatt\", \"watt\"},\n",
    "        \"item_volume\": {\n",
    "            \"cubic foot\",\n",
    "            \"microlitre\",\n",
    "            \"cup\",\n",
    "            \"fluid ounce\",\n",
    "            \"centilitre\",\n",
    "            \"imperial gallon\",\n",
    "            \"pint\",\n",
    "            \"decilitre\",\n",
    "            \"litre\",\n",
    "            \"millilitre\",\n",
    "            \"quart\",\n",
    "            \"cubic inch\",\n",
    "            \"gallon\",\n",
    "            \"ounce\",\n",
    "        },\n",
    "        \"maximum_weight_recommendation\": {\n",
    "            \"milligram\",\n",
    "            \"kilogram\",\n",
    "            \"microgram\",\n",
    "            \"gram\",\n",
    "            \"ounce\",\n",
    "            \"ton\",\n",
    "            \"pound\",\n",
    "        },\n",
    "    }\n",
    "    unit_short_form = {\n",
    "        \"cm\": \"centimetre\",\n",
    "        \"mm\": \"millimetre\",\n",
    "        \"m\": \"metre\",\n",
    "        \"in\": \"inch\",\n",
    "        \"ft\": \"foot\",\n",
    "        \"yd\": \"yard\",\n",
    "        \"g\": \"gram\",\n",
    "        \"kg\": \"kilogram\",\n",
    "        \"mg\": \"milligram\",\n",
    "        \"lb\": \"pound\",\n",
    "        \"oz\": \"ounce\",\n",
    "        \"ton\": \"ton\",\n",
    "        \"ug\": \"microgram\",\n",
    "        \"lbs\": \"pound\",\n",
    "        \"9\": \"gram\",\n",
    "        \"ozs\": \"ounce\",\n",
    "        \"mv\": \"millivolt\",\n",
    "        \"kv\": \"kilovolt\",\n",
    "        \"v\": \"volt\",\n",
    "        \"kw\": \"kilowatt\",\n",
    "        \"w\": \"watt\",\n",
    "        \"cf\": \"cubic foot\",\n",
    "        \"ul\": \"microlitre\",\n",
    "        \"fl oz\": \"fluid ounce\",\n",
    "        \"cl\": \"centilitre\",\n",
    "        \"gal\": \"imperial gallon\",\n",
    "        \"pt\": \"pint\",\n",
    "        \"dl\": \"decilitre\",\n",
    "        \"l\": \"litre\",\n",
    "        \"ml\": \"millilitre\",\n",
    "        \"qt\": \"quart\",\n",
    "        \"cu in\": \"cubic inch\",\n",
    "        \"gals\": \"gallon\",\n",
    "        \"c in\": \"cubic inch\",\n",
    "        \"cu ft\": \"cubic foot\",\n",
    "        \"o2\": \"ounce\",\n",
    "        \"0z\": \"ounce\",\n",
    "        \"k9\": \"kilogram\",\n",
    "    }\n",
    "    entity_unit = entity_unit_map[entity]\n",
    "    regex_map = {\n",
    "        \"item_weight\": r\"[0-9IJOD]+(\\.[0-9IJOD]+)?\\s*(g|kg|mg|ug|oz|ton|lb|lbs|ozs|o2|0z|k9|kilo|milli|micro|ounce|tonne|pound|gram)\",\n",
    "        \"width\": r\"[0-9IJOD]+(\\.[0-9IJOD]+)?\\s*(cm|mm|m|in|ft|yd|centi|milli|inch|foot|yard)\",\n",
    "        \"depth\": r\"[0-9IJOD]+(\\.[0-9IJOD]+)?\\s*(cm|mm|m|in|ft|yd|centi|milli|inch|foot|yard)\",\n",
    "        \"height\": r\"[0-9IJOD]+(\\.[0-9IJOD]+)?\\s*(cm|mm|m|in|ft|yd|centi|milli|inch|foot|yard)\",\n",
    "        \"voltage\": r\"[0-9IJOD]+(\\.[0-9IJOD]+)?\\s*(mv|kv|v|milli|kilo)\",\n",
    "        \"wattage\": r\"[0-9IJOD]+(\\.[0-9IJOD]+)?\\s*(kw|w|kilo)\",\n",
    "        \"item_volume\": r\"[0-9IJOD]+(\\.[0-9IJOD]+)?\\s*(cf|ul|fl oz|cl|gal|pt|dl|l|ml|qt|cu in|gals|c in|cu ft|o2|oz|ozs|0z|cubic|micro|cup|fluid|centi|imperial|pint|decilitre|litre|millilitre|quart|gallon|ounce)\",\n",
    "        \"maximum_weight_recommendation\": r\"[0-9IJOD]+(\\.[0-9IJOD]+)?\\s*(g|kg|mg|ug|oz|ton|lb|lbs|ozs|o2|02|0z|k9|kilo|milli|micro|ounce|tonne|pound|gram)\",\n",
    "    }\n",
    "    regex_units = {\n",
    "        \"item_weight\": r\"\\s*(g|kg|mg|ug|oz|ton|lb|lbs|ozs|o2|0z|k9|kilo|milli|micro|ounce|tonne|pound|gram)\",\n",
    "        \"width\": r\"\\s*(cm|mm|m|in|ft|yd|centi|milli|inch|foot|yard)\",\n",
    "        \"depth\": r\"\\s*(cm|mm|m|in|ft|yd|centi|milli|inch|foot|yard)\",\n",
    "        \"height\": r\"\\s*(cm|mm|m|in|ft|yd|centi|milli|inch|foot|yard)\",\n",
    "        \"voltage\": r\"\\s*(mv|kv|v|milli|kilo)\",\n",
    "        \"wattage\": r\"\\s*(kw|w|kilo)\",\n",
    "        \"item_volume\": r\"\\s*(cf|ul|fl oz|cl|gal|pt|dl|l|ml|qt|cu in|gals|c in|cu ft|o2|oz|ozs|0z|cubic|micro|cup|fluid|centi|imperial|pint|decilitre|litre|millilitre|quart|gallon|ounce)\",\n",
    "        \"maximum_weight_recommendation\": r\"\\s*(g|kg|mg|ug|oz|ton|lb|lbs|ozs|o2|0z|k9|kilo|milli|micro|ounce|tonne|pound|gram)\",\n",
    "    }\n",
    "    # Remove igh which will cause false positives\n",
    "    answer = answer.replace(\"igh\", \"\")\n",
    "    # Replace comma with dot\n",
    "    answer = answer.replace(\",\", \".\")\n",
    "    # Match the regex ignoring case\n",
    "    match = re.finditer(regex_map[entity], answer, re.IGNORECASE)\n",
    "    # Process each match\n",
    "    for m in match:\n",
    "        # Extract the number and the unit\n",
    "        # Extract the matched value\n",
    "        value = m.group(0)\n",
    "        # Extract the unit\n",
    "        unit = re.search(\n",
    "            regex_units[entity], value, re.IGNORECASE\n",
    "        )\n",
    "        if not unit:\n",
    "            continue\n",
    "        unit = unit.group(0).strip()\n",
    "        sstr = unit\n",
    "        unit = unit.lower()\n",
    "        if unit == \"feet\":\n",
    "            unit = \"foot\"\n",
    "        # Convert the unit to full form\n",
    "        if unit in unit_short_form:\n",
    "            unit = unit_short_form[unit]\n",
    "        # Check if the unit is valid\n",
    "        if unit in entity_unit:\n",
    "            entity_value = value.replace(sstr, \"\").strip()\n",
    "            # Replace I with 1 and O with 0\n",
    "            entity_value = (\n",
    "                entity_value.replace(\"I\", \"1\")\n",
    "                .replace(\"i\", \"1\")\n",
    "                .replace(\"J\", \"1\")\n",
    "                .replace(\"j\", \"1\")\n",
    "                .replace(\"O\", \"0\")\n",
    "                .replace(\"o\", \"0\")\n",
    "                .replace(\"D\", \"0\")\n",
    "            )\n",
    "            try:\n",
    "                entity_value = float(entity_value)\n",
    "                if int(entity_value) == entity_value and entity_value > 1000:\n",
    "                    entity_value = int(entity_value)\n",
    "            except:\n",
    "                continue\n",
    "            return str(entity_value) + \" \" + unit\n",
    "    return None"
   ]
  },
  {
   "cell_type": "code",
   "execution_count": 67,
   "metadata": {},
   "outputs": [
    {
     "name": "stderr",
     "output_type": "stream",
     "text": [
      "C:\\Users\\piyus\\AppData\\Local\\Temp\\ipykernel_21444\\332190801.py:1: DtypeWarning: Columns (4) have mixed types. Specify dtype option on import or set low_memory=False.\n",
      "  test_data = pd.read_csv(\"../dataset/merged_data.csv\")\n"
     ]
    },
    {
     "data": {
      "text/html": [
       "<div>\n",
       "<style scoped>\n",
       "    .dataframe tbody tr th:only-of-type {\n",
       "        vertical-align: middle;\n",
       "    }\n",
       "\n",
       "    .dataframe tbody tr th {\n",
       "        vertical-align: top;\n",
       "    }\n",
       "\n",
       "    .dataframe thead th {\n",
       "        text-align: right;\n",
       "    }\n",
       "</style>\n",
       "<table border=\"1\" class=\"dataframe\">\n",
       "  <thead>\n",
       "    <tr style=\"text-align: right;\">\n",
       "      <th></th>\n",
       "      <th>index</th>\n",
       "      <th>image_link</th>\n",
       "      <th>group_id</th>\n",
       "      <th>entity_name</th>\n",
       "      <th>OCR Text</th>\n",
       "    </tr>\n",
       "  </thead>\n",
       "  <tbody>\n",
       "    <tr>\n",
       "      <th>0</th>\n",
       "      <td>0</td>\n",
       "      <td>https://m.media-amazon.com/images/I/110EibNycl...</td>\n",
       "      <td>156839</td>\n",
       "      <td>height</td>\n",
       "      <td>3rcn51 44muieetcm</td>\n",
       "    </tr>\n",
       "    <tr>\n",
       "      <th>1</th>\n",
       "      <td>1</td>\n",
       "      <td>https://m.media-amazon.com/images/I/11TU2clswz...</td>\n",
       "      <td>792578</td>\n",
       "      <td>width</td>\n",
       "      <td>SizeWidthLengthOne Size42cm/16.54\"200cm/78.74\"</td>\n",
       "    </tr>\n",
       "    <tr>\n",
       "      <th>2</th>\n",
       "      <td>2</td>\n",
       "      <td>https://m.media-amazon.com/images/I/11TU2clswz...</td>\n",
       "      <td>792578</td>\n",
       "      <td>height</td>\n",
       "      <td>SizeWidthLengthOne Size42cm/16.54\"200cm/78.74\"</td>\n",
       "    </tr>\n",
       "    <tr>\n",
       "      <th>3</th>\n",
       "      <td>3</td>\n",
       "      <td>https://m.media-amazon.com/images/I/11TU2clswz...</td>\n",
       "      <td>792578</td>\n",
       "      <td>depth</td>\n",
       "      <td>SizeWidthLengthOne Size42cm/16.54\"200cm/78.74\"</td>\n",
       "    </tr>\n",
       "    <tr>\n",
       "      <th>4</th>\n",
       "      <td>4</td>\n",
       "      <td>https://m.media-amazon.com/images/I/11gHj8dhhr...</td>\n",
       "      <td>792578</td>\n",
       "      <td>depth</td>\n",
       "      <td>SizeWidthLengthOne Size10.50cm/4.13\"90cm/35.43\"</td>\n",
       "    </tr>\n",
       "  </tbody>\n",
       "</table>\n",
       "</div>"
      ],
      "text/plain": [
       "   index                                         image_link  group_id  \\\n",
       "0      0  https://m.media-amazon.com/images/I/110EibNycl...    156839   \n",
       "1      1  https://m.media-amazon.com/images/I/11TU2clswz...    792578   \n",
       "2      2  https://m.media-amazon.com/images/I/11TU2clswz...    792578   \n",
       "3      3  https://m.media-amazon.com/images/I/11TU2clswz...    792578   \n",
       "4      4  https://m.media-amazon.com/images/I/11gHj8dhhr...    792578   \n",
       "\n",
       "  entity_name                                         OCR Text  \n",
       "0      height                                3rcn51 44muieetcm  \n",
       "1       width   SizeWidthLengthOne Size42cm/16.54\"200cm/78.74\"  \n",
       "2      height   SizeWidthLengthOne Size42cm/16.54\"200cm/78.74\"  \n",
       "3       depth   SizeWidthLengthOne Size42cm/16.54\"200cm/78.74\"  \n",
       "4       depth  SizeWidthLengthOne Size10.50cm/4.13\"90cm/35.43\"  "
      ]
     },
     "execution_count": 67,
     "metadata": {},
     "output_type": "execute_result"
    }
   ],
   "source": [
    "test_data = pd.read_csv(\"../dataset/merged_data.csv\")\n",
    "test_data = test_data.dropna(subset=[\"OCR Text\"])\n",
    "test_data.head()"
   ]
  },
  {
   "cell_type": "code",
   "execution_count": 68,
   "metadata": {},
   "outputs": [],
   "source": [
    "test_input = pd.read_csv(\"../dataset/test.csv\")"
   ]
  },
  {
   "cell_type": "code",
   "execution_count": 69,
   "metadata": {},
   "outputs": [],
   "source": [
    "df = pd.DataFrame(columns=[\"index\", \"prediction\"], index=list(range(len(test_input))))"
   ]
  },
  {
   "cell_type": "code",
   "execution_count": 70,
   "metadata": {},
   "outputs": [
    {
     "name": "stderr",
     "output_type": "stream",
     "text": [
      "100%|██████████| 131187/131187 [17:02<00:00, 128.29it/s]  \n"
     ]
    }
   ],
   "source": [
    "for i, index in enumerate(tqdm(test_input[\"index\"], total=len(test_input))):\n",
    "    if index in test_data[\"index\"]:\n",
    "        row = test_data[test_data[\"index\"] == index]\n",
    "        if len(row) == 0:\n",
    "            df.loc[i] = [index, \"\"]\n",
    "            continue\n",
    "        context = row[\"OCR Text\"].values[0]\n",
    "        entity = row[\"entity_name\"].values[0]\n",
    "        answer = qa_pipeline(question=question.replace(\"%%\", entity), context=context)\n",
    "        prediction = process_text(answer[\"answer\"], entity)\n",
    "        if prediction:\n",
    "            df.loc[i] = [index, prediction]\n",
    "        else:\n",
    "            df.loc[i] = [index, \"\"]\n",
    "    else:\n",
    "        df.loc[i] = [index, \"\"]\n",
    "        "
   ]
  },
  {
   "cell_type": "code",
   "execution_count": 73,
   "metadata": {},
   "outputs": [],
   "source": [
    "df.to_csv(f\"predictions{time()}.csv\", index=False)"
   ]
  },
  {
   "cell_type": "code",
   "execution_count": 74,
   "metadata": {},
   "outputs": [
    {
     "name": "stdout",
     "output_type": "stream",
     "text": [
      "Parsing successfull for file: predictions1726322417.9047391.csv\n"
     ]
    }
   ],
   "source": [
    "!python sanity.py --test_filename ../dataset/test.csv --output_filename predictions1726322417.9047391.csv"
   ]
  },
  {
   "cell_type": "code",
   "execution_count": null,
   "metadata": {},
   "outputs": [],
   "source": []
  }
 ],
 "metadata": {
  "kernelspec": {
   "display_name": ".venv",
   "language": "python",
   "name": "python3"
  },
  "language_info": {
   "codemirror_mode": {
    "name": "ipython",
    "version": 3
   },
   "file_extension": ".py",
   "mimetype": "text/x-python",
   "name": "python",
   "nbconvert_exporter": "python",
   "pygments_lexer": "ipython3",
   "version": "3.12.5"
  }
 },
 "nbformat": 4,
 "nbformat_minor": 2
}
